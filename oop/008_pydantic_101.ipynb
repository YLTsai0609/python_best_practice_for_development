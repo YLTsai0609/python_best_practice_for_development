{
 "cells": [
  {
   "cell_type": "markdown",
   "id": "32ebc077",
   "metadata": {},
   "source": [
    "# 008_pydantic_attributes\n"
   ]
  },
  {
   "cell_type": "markdown",
   "id": "dea1b2d1",
   "metadata": {},
   "source": [
    "# Setup\n",
    "\n",
    "## Library import\n",
    "We import all the required Python libraries"
   ]
  },
  {
   "cell_type": "code",
   "execution_count": 1,
   "id": "5e81d250",
   "metadata": {
    "ExecuteTime": {
     "end_time": "2023-03-09T14:15:27.386647Z",
     "start_time": "2023-03-09T14:15:27.340306Z"
    }
   },
   "outputs": [],
   "source": [
    "from pydantic import BaseModel, Field\n",
    "from typing import List, Union, Tuple, Dict, Literal\n",
    "from datetime import datetime\n",
    "import time"
   ]
  },
  {
   "cell_type": "code",
   "execution_count": 2,
   "id": "b7fff131",
   "metadata": {
    "ExecuteTime": {
     "end_time": "2023-03-09T14:15:27.391188Z",
     "start_time": "2023-03-09T14:15:27.388176Z"
    }
   },
   "outputs": [
    {
     "name": "stdout",
     "output_type": "stream",
     "text": [
      "['ABCMeta', 'AbstractSet', 'Any', 'AnyStr', 'AsyncContextManager', 'AsyncGenerator', 'AsyncIterable', 'AsyncIterator', 'Awaitable', 'BinaryIO', 'ByteString', 'CT_co', 'Callable', 'ChainMap', 'ClassVar', 'Collection', 'Container', 'ContextManager', 'Coroutine', 'Counter', 'DefaultDict', 'Deque', 'Dict', 'EXCLUDED_ATTRIBUTES', 'Final', 'ForwardRef', 'FrozenSet', 'Generator', 'Generic', 'Hashable', 'IO', 'ItemsView', 'Iterable', 'Iterator', 'KT', 'KeysView', 'List', 'Literal', 'Mapping', 'MappingView', 'Match', 'MethodDescriptorType', 'MethodWrapperType', 'MutableMapping', 'MutableSequence', 'MutableSet', 'NamedTuple', 'NamedTupleMeta', 'NewType', 'NoReturn', 'Optional', 'OrderedDict', 'Pattern', 'Protocol', 'Reversible', 'Sequence', 'Set', 'Sized', 'SupportsAbs', 'SupportsBytes', 'SupportsComplex', 'SupportsFloat', 'SupportsIndex', 'SupportsInt', 'SupportsRound', 'T', 'TYPE_CHECKING', 'T_co', 'T_contra', 'Text', 'TextIO', 'Tuple', 'Type', 'TypeVar', 'TypedDict', 'Union', 'VT', 'VT_co', 'V_co', 'ValuesView', 'WrapperDescriptorType', '_Final', '_GenericAlias', '_Immutable', '_PROTO_WHITELIST', '_ProtocolMeta', '_SPECIAL_NAMES', '_SpecialForm', '_TYPING_INTERNALS', '_TypedDictMeta', '_TypingEllipsis', '_TypingEmpty', '_VariadicGenericAlias', '__all__', '__builtins__', '__cached__', '__doc__', '__file__', '__loader__', '__name__', '__package__', '__spec__', '_alias', '_allow_reckless_class_cheks', '_allowed_types', '_check_fails', '_check_generic', '_cleanups', '_collect_type_vars', '_dict_new', '_eval_type', '_get_defaults', '_get_protocol_attrs', '_is_callable_members_only', '_is_dunder', '_make_nmtuple', '_no_init', '_normalize_alias', '_overload_dummy', '_prohibited', '_remove_dups_flatten', '_special', '_subs_tvars', '_tp_cache', '_type_check', '_type_repr', '_typeddict_new', 'abstractmethod', 'cast', 'collections', 'contextlib', 'final', 'functools', 'get_args', 'get_origin', 'get_type_hints', 'io', 'no_type_check', 'no_type_check_decorator', 'operator', 'overload', 're', 'runtime_checkable', 'stdlib_re', 'sys', 'types']\n"
     ]
    }
   ],
   "source": [
    "import typing\n",
    "# print(typing.__version__)\n",
    "print(dir(typing))"
   ]
  },
  {
   "cell_type": "code",
   "execution_count": 3,
   "id": "0eb3ee6a",
   "metadata": {
    "ExecuteTime": {
     "end_time": "2023-03-09T14:15:27.396087Z",
     "start_time": "2023-03-09T14:15:27.392853Z"
    }
   },
   "outputs": [],
   "source": [
    "class KVStore1(BaseModel):\n",
    "    key = 'constant'\n",
    "    value : List[str]"
   ]
  },
  {
   "cell_type": "code",
   "execution_count": 4,
   "id": "09323783",
   "metadata": {
    "ExecuteTime": {
     "end_time": "2023-03-09T14:15:27.400493Z",
     "start_time": "2023-03-09T14:15:27.398210Z"
    }
   },
   "outputs": [
    {
     "name": "stdout",
     "output_type": "stream",
     "text": [
      "['Config', '__abstractmethods__', '__annotations__', '__class__', '__class_vars__', '__config__', '__custom_root_type__', '__delattr__', '__dict__', '__dir__', '__doc__', '__eq__', '__exclude_fields__', '__fields__', '__fields_set__', '__format__', '__ge__', '__get_validators__', '__getattribute__', '__getstate__', '__gt__', '__hash__', '__include_fields__', '__init__', '__init_subclass__', '__iter__', '__json_encoder__', '__le__', '__lt__', '__module__', '__ne__', '__new__', '__post_root_validators__', '__pre_root_validators__', '__pretty__', '__private_attributes__', '__reduce__', '__reduce_ex__', '__repr__', '__repr_args__', '__repr_name__', '__repr_str__', '__rich_repr__', '__schema_cache__', '__setattr__', '__setstate__', '__signature__', '__sizeof__', '__slots__', '__str__', '__subclasshook__', '__try_update_forward_refs__', '__validators__', '_abc_impl', '_calculate_keys', '_copy_and_set_values', '_decompose_class', '_enforce_dict_if_root', '_get_value', '_init_private_attributes', '_iter', 'construct', 'copy', 'dict', 'from_orm', 'json', 'parse_file', 'parse_obj', 'parse_raw', 'schema', 'schema_json', 'update_forward_refs', 'validate']\n"
     ]
    }
   ],
   "source": [
    "print(dir(KVStore1))"
   ]
  },
  {
   "cell_type": "code",
   "execution_count": 5,
   "id": "2234fda4",
   "metadata": {
    "ExecuteTime": {
     "end_time": "2023-03-09T14:15:27.405954Z",
     "start_time": "2023-03-09T14:15:27.401971Z"
    }
   },
   "outputs": [
    {
     "name": "stdout",
     "output_type": "stream",
     "text": [
      "__abstractmethods__ frozenset()\n",
      "\n",
      "__annotations__ {'value': typing.List[str]}\n",
      "\n",
      "__class__ <class 'pydantic.main.ModelMetaclass'>\n",
      "\n",
      "__class_vars__ set()\n",
      "\n",
      "__config__ <class '__main__.Config'>\n",
      "\n",
      "__custom_root_type__ False\n",
      "\n",
      "__delattr__ <slot wrapper '__delattr__' of 'object' objects>\n",
      "\n",
      "__dict__ {'__config__': <class '__main__.Config'>, '__fields__': {'value': ModelField(name='value', type=List[str], required=True), 'key': ModelField(name='key', type=str, required=False, default='constant')}, '__exclude_fields__': None, '__include_fields__': None, '__validators__': {}, '__pre_root_validators__': [], '__post_root_validators__': [], '__schema_cache__': {}, '__json_encoder__': <staticmethod object at 0x7f89410ae700>, '__custom_root_type__': False, '__private_attributes__': {}, '__slots__': set(), '__hash__': None, '__class_vars__': set(), '__module__': '__main__', '__annotations__': {'value': typing.List[str]}, '__doc__': None, '__abstractmethods__': frozenset(), '_abc_impl': <_abc_data object at 0x7f89410ae3f0>, '__signature__': <pydantic.utils.ClassAttribute object at 0x7f89410ae4f0>}\n",
      "\n",
      "__dir__ <method '__dir__' of 'object' objects>\n",
      "\n",
      "__doc__ None\n",
      "\n",
      "__eq__ <cyfunction BaseModel.__eq__ at 0x7f89411c7040>\n",
      "\n",
      "__exclude_fields__ None\n",
      "\n",
      "__fields__ {'value': ModelField(name='value', type=List[str], required=True), 'key': ModelField(name='key', type=str, required=False, default='constant')}\n",
      "\n",
      "__fields_set__ <member '__fields_set__' of 'BaseModel' objects>\n",
      "\n",
      "__format__ <method '__format__' of 'object' objects>\n",
      "\n",
      "__ge__ <slot wrapper '__ge__' of 'object' objects>\n",
      "\n",
      "__get_validators__ <bound method BaseModel.__get_validators__ of <class '__main__.KVStore1'>>\n",
      "\n",
      "__getattribute__ <slot wrapper '__getattribute__' of 'object' objects>\n",
      "\n",
      "__getstate__ <cyfunction BaseModel.__getstate__ at 0x7f89411bfba0>\n",
      "\n",
      "__gt__ <slot wrapper '__gt__' of 'object' objects>\n",
      "\n",
      "__hash__ None\n",
      "\n",
      "__include_fields__ None\n",
      "\n",
      "__init__ <cyfunction BaseModel.__init__ at 0x7f89411bfa00>\n",
      "\n",
      "__init_subclass__ <built-in method __init_subclass__ of ModelMetaclass object at 0x7f88f8f0acb0>\n",
      "\n",
      "__iter__ <cyfunction BaseModel.__iter__ at 0x7f89411c3d40>\n",
      "\n",
      "__json_encoder__ <cyfunction pydantic_encoder at 0x7f8910171c70>\n",
      "\n",
      "__le__ <slot wrapper '__le__' of 'object' objects>\n",
      "\n",
      "__lt__ <slot wrapper '__lt__' of 'object' objects>\n",
      "\n",
      "__module__ __main__\n",
      "\n",
      "__ne__ <slot wrapper '__ne__' of 'object' objects>\n",
      "\n",
      "__new__ <built-in method __new__ of type object at 0x10438e2f8>\n",
      "\n",
      "__post_root_validators__ []\n",
      "\n",
      "__pre_root_validators__ []\n",
      "\n",
      "__pretty__ <cyfunction Representation.__pretty__ at 0x7f895053d450>\n",
      "\n",
      "__private_attributes__ {}\n",
      "\n",
      "__reduce__ <method '__reduce__' of 'object' objects>\n",
      "\n",
      "__reduce_ex__ <method '__reduce_ex__' of 'object' objects>\n",
      "\n",
      "__repr__ <cyfunction Representation.__repr__ at 0x7f895053d5f0>\n",
      "\n",
      "__repr_args__ <cyfunction BaseModel.__repr_args__ at 0x7f89411c7110>\n",
      "\n",
      "__repr_name__ <cyfunction Representation.__repr_name__ at 0x7f895053d2b0>\n",
      "\n",
      "__repr_str__ <cyfunction Representation.__repr_str__ at 0x7f895053d380>\n",
      "\n",
      "__rich_repr__ <cyfunction Representation.__rich_repr__ at 0x7f895053d6c0>\n",
      "\n",
      "__schema_cache__ {}\n",
      "\n",
      "__setattr__ <cyfunction BaseModel.__setattr__ at 0x7f89411bfad0>\n",
      "\n",
      "__setstate__ <cyfunction BaseModel.__setstate__ at 0x7f89411bfc70>\n",
      "\n",
      "__signature__ (*, value: List[str], key: str = 'constant') -> None\n",
      "\n",
      "__sizeof__ <method '__sizeof__' of 'object' objects>\n",
      "\n",
      "__slots__ set()\n",
      "\n",
      "__str__ <cyfunction Representation.__str__ at 0x7f895053d520>\n",
      "\n",
      "__subclasshook__ <built-in method __subclasshook__ of ModelMetaclass object at 0x7f88f8f0acb0>\n",
      "\n",
      "__try_update_forward_refs__ <bound method BaseModel.__try_update_forward_refs__ of <class '__main__.KVStore1'>>\n",
      "\n",
      "__validators__ {}\n",
      "\n",
      "_abc_impl <_abc_data object at 0x7f89410ae3f0>\n",
      "\n",
      "_calculate_keys <cyfunction BaseModel._calculate_keys at 0x7f89411c3ee0>\n",
      "\n",
      "_copy_and_set_values <cyfunction BaseModel._copy_and_set_values at 0x7f89411c3520>\n",
      "\n",
      "_decompose_class <bound method BaseModel._decompose_class of <class '__main__.KVStore1'>>\n",
      "\n",
      "_enforce_dict_if_root <bound method BaseModel._enforce_dict_if_root of <class '__main__.KVStore1'>>\n",
      "\n",
      "_get_value <bound method BaseModel._get_value of <class '__main__.KVStore1'>>\n",
      "\n",
      "_init_private_attributes <cyfunction BaseModel._init_private_attributes at 0x7f89411bfd40>\n",
      "\n",
      "_iter <cyfunction BaseModel._iter at 0x7f89411c3e10>\n",
      "\n"
     ]
    }
   ],
   "source": [
    "# the magic field\n",
    "for attri in dir(KVStore1):\n",
    "    if attri.startswith('_'):\n",
    "        print(attri, getattr(KVStore1,attri))\n",
    "        print()"
   ]
  },
  {
   "cell_type": "code",
   "execution_count": 6,
   "id": "501610cc",
   "metadata": {
    "ExecuteTime": {
     "end_time": "2023-03-09T14:15:27.413988Z",
     "start_time": "2023-03-09T14:15:27.407825Z"
    }
   },
   "outputs": [
    {
     "data": {
      "text/plain": [
       "{'value': ModelField(name='value', type=List[str], required=True),\n",
       " 'key': ModelField(name='key', type=str, required=False, default='constant')}"
      ]
     },
     "execution_count": 6,
     "metadata": {},
     "output_type": "execute_result"
    }
   ],
   "source": [
    "# 1, how to get default value \n",
    "KVStore1.__fields__"
   ]
  },
  {
   "cell_type": "code",
   "execution_count": 7,
   "id": "55d11371",
   "metadata": {
    "ExecuteTime": {
     "end_time": "2023-03-09T14:15:27.420063Z",
     "start_time": "2023-03-09T14:15:27.416365Z"
    }
   },
   "outputs": [
    {
     "data": {
      "text/plain": [
       "'constant'"
      ]
     },
     "execution_count": 7,
     "metadata": {},
     "output_type": "execute_result"
    }
   ],
   "source": [
    "KVStore1.__fields__['key'].default"
   ]
  },
  {
   "cell_type": "code",
   "execution_count": null,
   "id": "ac497522",
   "metadata": {},
   "outputs": [],
   "source": []
  },
  {
   "cell_type": "code",
   "execution_count": 8,
   "id": "94108c0d",
   "metadata": {
    "ExecuteTime": {
     "end_time": "2023-03-09T14:15:27.425477Z",
     "start_time": "2023-03-09T14:15:27.421818Z"
    }
   },
   "outputs": [],
   "source": [
    "# 2 create default field for pydantic\n",
    "\n",
    "def get_utc_now() -> datetime:\n",
    "    return datetime.utcnow().strftime(\"%Y-%m-%d %H:%M:%S\")\n",
    "    \n",
    "class DemoModel_good(BaseModel):\n",
    "    ts: str = Field(default_factory=get_utc_now)\n",
    "        \n",
    "class DemoModel_bad(BaseModel):\n",
    "    ts: str = get_utc_now() # only initilize at first creation"
   ]
  },
  {
   "cell_type": "code",
   "execution_count": 9,
   "id": "3557f873",
   "metadata": {
    "ExecuteTime": {
     "end_time": "2023-03-09T14:15:30.442569Z",
     "start_time": "2023-03-09T14:15:27.427457Z"
    }
   },
   "outputs": [
    {
     "name": "stdout",
     "output_type": "stream",
     "text": [
      "ts='2023-03-09 14:15:27' ts='2023-03-09 14:15:30'\n",
      "ts='2023-03-09 14:15:27' ts='2023-03-09 14:15:27'\n"
     ]
    }
   ],
   "source": [
    "different_ts_1 = DemoModel_good()\n",
    "same_ts_1 = DemoModel_bad()\n",
    "\n",
    "time.sleep(3)\n",
    "\n",
    "different_ts_2 = DemoModel_good()\n",
    "same_ts_2 = DemoModel_bad()\n",
    "\n",
    "print(different_ts_1, different_ts_2)\n",
    "\n",
    "print(same_ts_1, same_ts_2)"
   ]
  },
  {
   "cell_type": "code",
   "execution_count": null,
   "id": "7dffa305",
   "metadata": {},
   "outputs": [],
   "source": []
  }
 ],
 "metadata": {
  "kernelspec": {
   "display_name": "data-realtime",
   "language": "python",
   "name": "data-realtime"
  },
  "language_info": {
   "codemirror_mode": {
    "name": "ipython",
    "version": 3
   },
   "file_extension": ".py",
   "mimetype": "text/x-python",
   "name": "python",
   "nbconvert_exporter": "python",
   "pygments_lexer": "ipython3",
   "version": "3.8.15"
  },
  "toc": {
   "base_numbering": 1,
   "nav_menu": {},
   "number_sections": true,
   "sideBar": true,
   "skip_h1_title": false,
   "title_cell": "Table of Contents",
   "title_sidebar": "Contents",
   "toc_cell": false,
   "toc_position": {},
   "toc_section_display": true,
   "toc_window_display": false
  }
 },
 "nbformat": 4,
 "nbformat_minor": 5
}
