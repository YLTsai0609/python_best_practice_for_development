{
 "cells": [
  {
   "cell_type": "markdown",
   "id": "d68e48c9",
   "metadata": {},
   "source": [
    "# Attrs\n",
    "\n",
    "use attr for more eligant and time saving OOP programming\n",
    "\n",
    "[introduction 1](https://blog.csdn.net/HHG20171226/article/details/103038077)\n",
    "\n",
    "[github](https://github.com/python-attrs/attrs)\n",
    "[official document](attrs.org/en/stable/)\n",
    "\n",
    "1. time saving oop\n",
    "2. data conversation and validation (vs pydantic)\n",
    "3. slots feature (vs dataclass)"
   ]
  },
  {
   "cell_type": "code",
   "execution_count": 1,
   "id": "b3ff9657",
   "metadata": {
    "ExecuteTime": {
     "end_time": "2023-03-19T14:07:04.958159Z",
     "start_time": "2023-03-19T14:07:04.941478Z"
    }
   },
   "outputs": [],
   "source": [
    "import attr\n",
    "import os\n",
    "from os.path import join as PJ"
   ]
  },
  {
   "cell_type": "code",
   "execution_count": 2,
   "id": "2269615d",
   "metadata": {
    "ExecuteTime": {
     "end_time": "2023-03-19T14:07:04.963482Z",
     "start_time": "2023-03-19T14:07:04.959926Z"
    }
   },
   "outputs": [],
   "source": [
    "# 1 auto-create magic methods, get rid of `self`\n",
    "\n",
    "\n",
    "\n",
    "class Color:\n",
    "    \"\"\"\n",
    "    Color Object for RGB\n",
    "    \"\"\"\n",
    "\n",
    "    def __init__(self, r, g, b):\n",
    "        self.r = r\n",
    "        self.g = g\n",
    "        self.b = b\n",
    "\n",
    "    def __repr__(self):\n",
    "        return f\"{self.__class__.__name__}(r={self.r}, g={self.g}, b={self.b})\"\n",
    "\n",
    "    def __lt__(self):\n",
    "        pass\n",
    "\n",
    "    def __eq__(self):\n",
    "        pass\n",
    "\n",
    "\n",
    "# automatic generate __init__, __repr__, __eq__,\n",
    "# __ne__, __lt__, __le__, __gt__, __ge__, __hash__\n",
    "\n",
    "# __ge__ greater equal\n",
    "# __gt__ geater than\n",
    "# basically all the dunder method\n",
    "\n",
    "# 自動處理所有魔術方法"
   ]
  },
  {
   "cell_type": "code",
   "execution_count": 3,
   "id": "2fd27544",
   "metadata": {
    "ExecuteTime": {
     "end_time": "2023-03-19T14:07:04.970823Z",
     "start_time": "2023-03-19T14:07:04.965675Z"
    }
   },
   "outputs": [
    {
     "name": "stdout",
     "output_type": "stream",
     "text": [
      "Color(r=255, g=255, b=255)\n",
      "GreaterColor(r=255, g=255, b=255)\n",
      "{'r': 255, 'g': 255, 'b': 255}\n",
      "True\n",
      "True\n",
      "GreaterColor ['__attrs_attrs__', '__class__', '__delattr__', '__dict__', '__dir__', '__doc__', '__eq__', '__format__', '__ge__', '__getattribute__', '__gt__', '__hash__', '__init__', '__init_subclass__', '__le__', '__lt__', '__module__', '__ne__', '__new__', '__reduce__', '__reduce_ex__', '__repr__', '__setattr__', '__sizeof__', '__str__', '__subclasshook__', '__weakref__', 'b', 'g', 'r']\n",
      "\n",
      "Color ['__class__', '__delattr__', '__dict__', '__dir__', '__doc__', '__eq__', '__format__', '__ge__', '__getattribute__', '__gt__', '__hash__', '__init__', '__init_subclass__', '__le__', '__lt__', '__module__', '__ne__', '__new__', '__reduce__', '__reduce_ex__', '__repr__', '__setattr__', '__sizeof__', '__str__', '__subclasshook__', '__weakref__', 'b', 'g', 'r']\n"
     ]
    }
   ],
   "source": [
    "\n",
    "@attr.s()\n",
    "class GreaterColor:\n",
    "    r = attr.ib(default=255, type=int)\n",
    "    g = attr.ib(default=255, type=int)\n",
    "    b = attr.ib(default=255, type=int)\n",
    "\n",
    "\n",
    "\n",
    "\n",
    "c1 = Color(255, 255, 255)\n",
    "print(c1)\n",
    "c2 = GreaterColor()\n",
    "print(c2)  # automatic generate __repr__\n",
    "print(attr.asdict(c2))  # __dict__\n",
    "print(c2 == GreaterColor(255, 255, 255))  # __eq__\n",
    "print(c2 > GreaterColor(255, 254, 0))  # __le__\n",
    "\n",
    "print(c2.__class__.__name__, dir(c2))\n",
    "print()\n",
    "print(c1.__class__.__name__, dir(c1))\n"
   ]
  },
  {
   "cell_type": "code",
   "execution_count": 4,
   "id": "5198ea2b",
   "metadata": {
    "ExecuteTime": {
     "end_time": "2023-03-19T14:07:04.976170Z",
     "start_time": "2023-03-19T14:07:04.972717Z"
    }
   },
   "outputs": [],
   "source": [
    "\n",
    "# attr.s (s for self)\n",
    "# attr.ib (ib for attribute ? )\n",
    "\n",
    "# auto_attribs : lay off attr.ib(...)\n",
    "# forzen : make the instance immutable when it initilized\n",
    "# kw_only :  set variable of class using keyword only\n",
    "# slots = True : use __slot__ for attributes(it's will be faster when you are creating short-lifetime object)\n",
    "\n",
    "\n"
   ]
  },
  {
   "cell_type": "code",
   "execution_count": 5,
   "id": "19d15a95",
   "metadata": {
    "ExecuteTime": {
     "end_time": "2023-03-19T14:07:04.983283Z",
     "start_time": "2023-03-19T14:07:04.977821Z"
    }
   },
   "outputs": [
    {
     "name": "stdout",
     "output_type": "stream",
     "text": [
      "\n",
      "GreaterColor(r=255, g=255, b=255)\n",
      "\n",
      "['__attrs_attrs__', '__class__', '__delattr__', '__dict__', '__dir__', '__doc__', '__eq__', '__format__', '__ge__', '__getattribute__', '__gt__', '__hash__', '__init__', '__init_subclass__', '__le__', '__lt__', '__module__', '__ne__', '__new__', '__reduce__', '__reduce_ex__', '__repr__', '__setattr__', '__sizeof__', '__str__', '__subclasshook__', '__weakref__', 'b', 'g', 'r']\n",
      "\n",
      "EvenGreaterColor(r=255, g=255, b=255)\n",
      "\n",
      "['__annotations__', '__attrs_attrs__', '__class__', '__delattr__', '__dict__', '__dir__', '__doc__', '__eq__', '__format__', '__ge__', '__getattribute__', '__gt__', '__hash__', '__init__', '__init_subclass__', '__le__', '__lt__', '__module__', '__ne__', '__new__', '__reduce__', '__reduce_ex__', '__repr__', '__setattr__', '__sizeof__', '__str__', '__subclasshook__', '__weakref__', 'b', 'g', 'r']\n"
     ]
    }
   ],
   "source": [
    "# 2 lay off attr-ib\n",
    "\n",
    "\n",
    "@attr.s\n",
    "class GreaterColor(object):\n",
    "    r = attr.ib(default=255, type=int)\n",
    "    g = attr.ib(default=255, type=int)\n",
    "    b = attr.ib(default=255, type=int)\n",
    "\n",
    "\n",
    "# 還要寫 attr.ib 很麻煩\n",
    "@attr.s(auto_attribs=True)\n",
    "class EvenGreaterColor:\n",
    "    r: int = 255\n",
    "    g: int = 255\n",
    "    b: int = 255\n",
    "\n",
    "\n",
    "c2 = GreaterColor()\n",
    "c3 = EvenGreaterColor()\n",
    "\n",
    "for c in [c2, c3]:\n",
    "    print()\n",
    "    print(c)\n",
    "    print()\n",
    "    print(dir(c))\n"
   ]
  },
  {
   "cell_type": "code",
   "execution_count": 6,
   "id": "7eed9e8a",
   "metadata": {
    "ExecuteTime": {
     "end_time": "2023-03-19T14:07:04.993566Z",
     "start_time": "2023-03-19T14:07:04.985011Z"
    }
   },
   "outputs": [
    {
     "name": "stdout",
     "output_type": "stream",
     "text": [
      "C(x=42)\n",
      "x must be smaller or equal to 42\n",
      "C(x=3, y=4)\n",
      "'x' has to be smaller than 'y'!\n",
      "gender should be [male, female], got BadBoy\n"
     ]
    }
   ],
   "source": [
    "# 3 validation (plug-in based, different with pydnatic)\n",
    "\n",
    "from attr import attrib\n",
    "\n",
    "\n",
    "@attr.s\n",
    "class C(object):\n",
    "    x = attr.ib()\n",
    "\n",
    "    @x.validator\n",
    "    def check(self, attribute, value):\n",
    "        if value > 42:\n",
    "            raise ValueError(\"x must be smaller or equal to 42\")\n",
    "\n",
    "\n",
    "print(C(42))\n",
    "\n",
    "try:\n",
    "    print(C(43))\n",
    "except Exception as e:\n",
    "    print(e)\n",
    "\n",
    "\n",
    "def x_smaller_than_y(instance, attribute, value):\n",
    "    if value >= instance.y:\n",
    "        raise ValueError(\"'x' has to be smaller than 'y'!\")\n",
    "\n",
    "\n",
    "@attr.s\n",
    "class C(object):\n",
    "    x = attr.ib(validator=[attr.validators.instance_of(int), x_smaller_than_y])\n",
    "    y = attr.ib()\n",
    "\n",
    "\n",
    "print(C(x=3, y=4))\n",
    "try:\n",
    "    print(C(x=4, y=3))\n",
    "except Exception as e:\n",
    "    print(e)\n",
    "\n",
    "\n",
    "def is_valid_gender(isinstance, attribute,given_gender: str):\n",
    "    '''\n",
    "    first 2 arguments is for self and attr\n",
    "    '''\n",
    "    if given_gender not in [\"male\", \"female\"]:\n",
    "        raise ValueError(f\"gender should be [male, female], got {given_gender}\")\n",
    "\n",
    "\n",
    "@attr.s(auto_attribs=True)\n",
    "class Person:\n",
    "    name: str\n",
    "    gender: str = attrib(validator=is_valid_gender)\n",
    "\n",
    "\n",
    "try:\n",
    "    Person(\"Joe\", \"BadBoy\")\n",
    "except Exception as e:\n",
    "    print(e)"
   ]
  },
  {
   "cell_type": "code",
   "execution_count": 7,
   "id": "2a384f9e",
   "metadata": {
    "ExecuteTime": {
     "end_time": "2023-03-19T14:07:05.000547Z",
     "start_time": "2023-03-19T14:07:04.995764Z"
    }
   },
   "outputs": [
    {
     "name": "stdout",
     "output_type": "stream",
     "text": [
      "DataUri(basename='abc.py', prefix='1')\n",
      "1/abc.py\n",
      "<class 'attr.exceptions.FrozenInstanceError'> \n"
     ]
    }
   ],
   "source": [
    "# 4 - immutable and converation\n",
    "@attr.s(frozen=True)\n",
    "class DataUri:\n",
    "    basename: str = attr.ib(converter=str) # 將輸入轉換成 string\n",
    "    prefix: str = attr.ib(converter=str) # 並且是不可變的\n",
    "    dummy = 1\n",
    "\n",
    "    @property\n",
    "    def fullpath(self):\n",
    "        return PJ(self.prefix, self.basename)\n",
    "\n",
    "d1 = DataUri(basename=\"abc.py\", prefix=1)\n",
    "print(d1, d1.fullpath,sep='\\n')\n",
    "\n",
    "\n",
    "try:\n",
    "    d1.basename = 4  # raise frozen error\n",
    "except Exception as e:\n",
    "    print(type(e), e)"
   ]
  },
  {
   "cell_type": "code",
   "execution_count": 8,
   "id": "088d32d3",
   "metadata": {
    "ExecuteTime": {
     "end_time": "2023-03-19T14:07:05.009117Z",
     "start_time": "2023-03-19T14:07:05.003786Z"
    }
   },
   "outputs": [
    {
     "name": "stdout",
     "output_type": "stream",
     "text": [
      "Spreadsheet(sheet_id=1, gid=0, schema={'poi_name': <class 'str'>}, share_url='https://abc/1/edf/0', download_url='https://zxc/1/pdq/0')\n"
     ]
    }
   ],
   "source": [
    "# 5 slot \n",
    "# slots is an advance feature in dataclass, only python 3.10+....\n",
    "# attr has it.\n",
    "\n",
    "from typing import Optional\n",
    "\n",
    "immutable = attr.define(auto_attribs=True, frozen=True, kw_only=True, slots=True)\n",
    "\n",
    "\n",
    "@immutable\n",
    "class Spreadsheet:\n",
    "    sheet_id: str\n",
    "    gid: int = 0\n",
    "    schema: Optional[dict] = {}\n",
    "    share_url: str = attr.ib(init=False)\n",
    "    download_url: str = attr.ib(init=False)\n",
    "\n",
    "    def __attrs_post_init__(self):\n",
    "        # https://www.attrs.org/en/stable/init.html\n",
    "        # setattr, then frozen\n",
    "        object.__setattr__(\n",
    "            self, \"share_url\", f\"https://abc/{self.sheet_id}/edf/{self.gid}\"\n",
    "        )\n",
    "        object.__setattr__(\n",
    "            self, \"download_url\", f\"https://zxc/{self.sheet_id}/pdq/{self.gid}\"\n",
    "        )\n",
    "        # self.share_url = f\"https://abc/{self.sheet_id}/edf/{self.gid}\"\n",
    "\n",
    "    # @property\n",
    "    # def share_url(self)\n",
    "    #     return f\"https://abc/{self.sheet_id}/edf/{self.gid}\"\n",
    "\n",
    "\n",
    "s1 = Spreadsheet(sheet_id=1, schema={\"poi_name\": str})\n",
    "\n",
    "print(s1)"
   ]
  },
  {
   "cell_type": "code",
   "execution_count": null,
   "id": "e76f6127",
   "metadata": {},
   "outputs": [],
   "source": []
  }
 ],
 "metadata": {
  "kernelspec": {
   "display_name": "data-pipeline",
   "language": "python",
   "name": "data-pipeline"
  },
  "language_info": {
   "codemirror_mode": {
    "name": "ipython",
    "version": 3
   },
   "file_extension": ".py",
   "mimetype": "text/x-python",
   "name": "python",
   "nbconvert_exporter": "python",
   "pygments_lexer": "ipython3",
   "version": "3.6.10"
  },
  "toc": {
   "base_numbering": 1,
   "nav_menu": {},
   "number_sections": true,
   "sideBar": true,
   "skip_h1_title": false,
   "title_cell": "Table of Contents",
   "title_sidebar": "Contents",
   "toc_cell": false,
   "toc_position": {},
   "toc_section_display": true,
   "toc_window_display": false
  }
 },
 "nbformat": 4,
 "nbformat_minor": 5
}
